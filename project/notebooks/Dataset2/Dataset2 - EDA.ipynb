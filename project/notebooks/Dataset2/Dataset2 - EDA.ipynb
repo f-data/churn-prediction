{
 "cells": [
  {
   "cell_type": "code",
   "execution_count": 10,
   "metadata": {},
   "outputs": [
    {
     "name": "stdout",
     "output_type": "stream",
     "text": [
      "<class 'pandas.core.frame.DataFrame'>\n",
      "RangeIndex: 7043 entries, 0 to 7042\n",
      "Data columns (total 21 columns):\n",
      " #   Column            Non-Null Count  Dtype  \n",
      "---  ------            --------------  -----  \n",
      " 0   customerID        7043 non-null   object \n",
      " 1   gender            7043 non-null   object \n",
      " 2   SeniorCitizen     7043 non-null   int64  \n",
      " 3   Partner           7043 non-null   object \n",
      " 4   Dependents        7043 non-null   object \n",
      " 5   tenure            7043 non-null   int64  \n",
      " 6   PhoneService      7043 non-null   object \n",
      " 7   MultipleLines     7043 non-null   object \n",
      " 8   InternetService   7043 non-null   object \n",
      " 9   OnlineSecurity    7043 non-null   object \n",
      " 10  OnlineBackup      7043 non-null   object \n",
      " 11  DeviceProtection  7043 non-null   object \n",
      " 12  TechSupport       7043 non-null   object \n",
      " 13  StreamingTV       7043 non-null   object \n",
      " 14  StreamingMovies   7043 non-null   object \n",
      " 15  Contract          7043 non-null   object \n",
      " 16  PaperlessBilling  7043 non-null   object \n",
      " 17  PaymentMethod     7043 non-null   object \n",
      " 18  MonthlyCharges    7043 non-null   float64\n",
      " 19  TotalCharges      7043 non-null   object \n",
      " 20  Churn             7043 non-null   object \n",
      "dtypes: float64(1), int64(2), object(18)\n",
      "memory usage: 1.1+ MB\n",
      "   customerID  gender  SeniorCitizen Partner Dependents  tenure PhoneService  \\\n",
      "0  7590-VHVEG  Female              0     Yes         No       1           No   \n",
      "1  5575-GNVDE    Male              0      No         No      34          Yes   \n",
      "2  3668-QPYBK    Male              0      No         No       2          Yes   \n",
      "3  7795-CFOCW    Male              0      No         No      45           No   \n",
      "4  9237-HQITU  Female              0      No         No       2          Yes   \n",
      "\n",
      "      MultipleLines InternetService OnlineSecurity  ... DeviceProtection  \\\n",
      "0  No phone service             DSL             No  ...               No   \n",
      "1                No             DSL            Yes  ...              Yes   \n",
      "2                No             DSL            Yes  ...               No   \n",
      "3  No phone service             DSL            Yes  ...              Yes   \n",
      "4                No     Fiber optic             No  ...               No   \n",
      "\n",
      "  TechSupport StreamingTV StreamingMovies        Contract PaperlessBilling  \\\n",
      "0          No          No              No  Month-to-month              Yes   \n",
      "1          No          No              No        One year               No   \n",
      "2          No          No              No  Month-to-month              Yes   \n",
      "3         Yes          No              No        One year               No   \n",
      "4          No          No              No  Month-to-month              Yes   \n",
      "\n",
      "               PaymentMethod MonthlyCharges  TotalCharges Churn  \n",
      "0           Electronic check          29.85         29.85    No  \n",
      "1               Mailed check          56.95        1889.5    No  \n",
      "2               Mailed check          53.85        108.15   Yes  \n",
      "3  Bank transfer (automatic)          42.30       1840.75    No  \n",
      "4           Electronic check          70.70        151.65   Yes  \n",
      "\n",
      "[5 rows x 21 columns]\n",
      "['No' 'Yes']\n",
      "<class 'pandas.core.frame.DataFrame'>\n",
      "RangeIndex: 7043 entries, 0 to 7042\n",
      "Data columns (total 20 columns):\n",
      " #   Column            Non-Null Count  Dtype  \n",
      "---  ------            --------------  -----  \n",
      " 0   SeniorCitizen     7043 non-null   int64  \n",
      " 1   Partner           7043 non-null   int32  \n",
      " 2   Dependents        7043 non-null   int32  \n",
      " 3   tenure            7043 non-null   int64  \n",
      " 4   PhoneService      7043 non-null   int32  \n",
      " 5   MultipleLines     7043 non-null   float64\n",
      " 6   InternetService   7043 non-null   float64\n",
      " 7   OnlineSecurity    7043 non-null   int32  \n",
      " 8   OnlineBackup      7043 non-null   int32  \n",
      " 9   DeviceProtection  7043 non-null   int32  \n",
      " 10  TechSupport       7043 non-null   int32  \n",
      " 11  StreamingTV       7043 non-null   int32  \n",
      " 12  StreamingMovies   7043 non-null   int32  \n",
      " 13  Contract          7043 non-null   float64\n",
      " 14  PaperlessBilling  7043 non-null   int32  \n",
      " 15  PaymentMethod     7043 non-null   float64\n",
      " 16  MonthlyCharges    7043 non-null   float64\n",
      " 17  TotalCharges      7043 non-null   float64\n",
      " 18  Churn             7043 non-null   int32  \n",
      " 19  IsMale            7043 non-null   int32  \n",
      "dtypes: float64(6), int32(12), int64(2)\n",
      "memory usage: 770.5 KB\n"
     ]
    }
   ],
   "source": [
    "import numpy as np\n",
    "import pandas as pd\n",
    "from sklearn.preprocessing import OrdinalEncoder\n",
    "import os\n",
    "\n",
    "#Read data\n",
    "raw_data_path =os.path.join(os.path.pardir,os.path.pardir,'data','raw', 'Dataset2')\n",
    "train_file_path = os.path.join(raw_data_path,'data.csv')\n",
    "df = pd.read_csv(train_file_path)\n",
    "df[\"Churn\"] = np.where(df.Churn== \"Yes\", 1 ,0)\n",
    "df[\"Partner\"] = np.where(df.Partner== \"Yes\", 1 ,0)\n",
    "df[\"PaperlessBilling\"] = np.where(df.PaperlessBilling== \"Yes\", 1 ,0)\n",
    "df[\"IsMale\"] = np.where(df.gender== \"Male\", 1 ,0)\n",
    "df[\"Dependents\"] = np.where(df.Dependents== \"Yes\", 1 ,0)\n",
    "df[\"OnlineSecurity\"] = np.where(df.OnlineSecurity== \"Yes\", 1 ,0)\n",
    "df[\"OnlineBackup\"] = np.where(df.OnlineBackup== \"Yes\", 1 ,0)\n",
    "df[\"DeviceProtection\"] = np.where(df.DeviceProtection== \"Yes\", 1 ,0)\n",
    "df[\"TechSupport\"] = np.where(df.TechSupport== \"Yes\", 1 ,0)\n",
    "df[\"StreamingMovies\"] = np.where(df.StreamingMovies== \"Yes\", 1 ,0)\n",
    "df[\"StreamingTV\"] = np.where(df.StreamingTV== \"Yes\", 1 ,0)\n",
    "df[\"PhoneService\"] = np.where(df.PhoneService == \"Yes\", 1 ,0)\n",
    "ord_enc = OrdinalEncoder()\n",
    "df[\"InternetService\"] = ord_enc.fit_transform(df[[\"InternetService\"]])\n",
    "df[\"MultipleLines\"] = ord_enc.fit_transform(df[[\"MultipleLines\"]])\n",
    "df[\"Contract\"] = ord_enc.fit_transform(df[[\"Contract\"]])\n",
    "df[\"PaymentMethod\"] = ord_enc.fit_transform(df[[\"PaymentMethod\"]])\n",
    "df[\"TotalCharges\"] = pd.to_numeric(df[\"TotalCharges\"].str.replace(' ', '0'))\n",
    "df =df.drop(['gender','customerID'], axis=1)\n",
    "df.info()"
   ]
  },
  {
   "cell_type": "code",
   "execution_count": 2,
   "metadata": {},
   "outputs": [],
   "source": [
    "proccessed_data_path =os.path.join(os.path.pardir,os.path.pardir,'data','processed')\n",
    "write_train_path = os.path.join(proccessed_data_path,'dataset2.csv')\n",
    "df.to_csv(write_train_path)"
   ]
  },
  {
   "cell_type": "code",
   "execution_count": 3,
   "metadata": {},
   "outputs": [
    {
     "data": {
      "image/png": "[encoded data removed]",
      "text/plain": [
       "<Figure size 432x288 with 1 Axes>"
      ]
     },
     "metadata": {},
     "output_type": "display_data"
    }
   ],
   "source": [
    "df.Churn.value_counts().plot(kind= 'pie', title='Churned proportion of customers', explode = [0,0.1],autopct='%1.1f%%', shadow=True);\n"
   ]
  },
  {
   "cell_type": "code",
   "execution_count": null,
   "metadata": {},
   "outputs": [],
   "source": []
  }
 ],
 "metadata": {
  "kernelspec": {
   "display_name": "Python 3",
   "language": "python",
   "name": "python3"
  },
  "language_info": {
   "codemirror_mode": {
    "name": "ipython",
    "version": 3
   },
   "file_extension": ".py",
   "mimetype": "text/x-python",
   "name": "python",
   "nbconvert_exporter": "python",
   "pygments_lexer": "ipython3",
   "version": "3.8.5"
  }
 },
 "nbformat": 4,
 "nbformat_minor": 4
}
