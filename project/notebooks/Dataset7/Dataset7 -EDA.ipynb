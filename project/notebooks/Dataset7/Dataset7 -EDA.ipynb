{
 "cells": [
  {
   "cell_type": "code",
   "execution_count": 4,
   "metadata": {},
   "outputs": [
    {
     "name": "stdout",
     "output_type": "stream",
     "text": [
      "<class 'pandas.core.frame.DataFrame'>\n",
      "RangeIndex: 2000 entries, 0 to 1999\n",
      "Data columns (total 15 columns):\n",
      " #   Column                     Non-Null Count  Dtype  \n",
      "---  ------                     --------------  -----  \n",
      " 0   network_age                2000 non-null   int64  \n",
      " 1   Aggregate_Total_Rev        2000 non-null   float64\n",
      " 2   Aggregate_SMS_Rev          2000 non-null   float64\n",
      " 3   Aggregate_Data_Rev         2000 non-null   float64\n",
      " 4   Aggregate_Data_Vol         2000 non-null   float64\n",
      " 5   Aggregate_Calls            2000 non-null   int64  \n",
      " 6   Aggregate_ONNET_REV        2000 non-null   int64  \n",
      " 7   Aggregate_OFFNET_REV       2000 non-null   int64  \n",
      " 8   Aggregate_complaint_count  2000 non-null   int64  \n",
      " 9   aug_user_type              1755 non-null   object \n",
      " 10  sep_user_type              1794 non-null   object \n",
      " 11  aug_fav_a                  1999 non-null   object \n",
      " 12  sep_fav_a                  1999 non-null   object \n",
      " 13  Class                      2000 non-null   object \n",
      " 14  Churn                      2000 non-null   int32  \n",
      "dtypes: float64(4), int32(1), int64(5), object(5)\n",
      "memory usage: 226.7+ KB\n",
      "<class 'pandas.core.frame.DataFrame'>\n",
      "RangeIndex: 2000 entries, 0 to 1999\n",
      "Data columns (total 14 columns):\n",
      " #   Column                     Non-Null Count  Dtype  \n",
      "---  ------                     --------------  -----  \n",
      " 0   network_age                2000 non-null   int64  \n",
      " 1   Aggregate_Total_Rev        2000 non-null   float64\n",
      " 2   Aggregate_SMS_Rev          2000 non-null   float64\n",
      " 3   Aggregate_Data_Rev         2000 non-null   float64\n",
      " 4   Aggregate_Data_Vol         2000 non-null   float64\n",
      " 5   Aggregate_Calls            2000 non-null   int64  \n",
      " 6   Aggregate_ONNET_REV        2000 non-null   int64  \n",
      " 7   Aggregate_OFFNET_REV       2000 non-null   int64  \n",
      " 8   Aggregate_complaint_count  2000 non-null   int64  \n",
      " 9   aug_user_type              2000 non-null   float64\n",
      " 10  sep_user_type              2000 non-null   float64\n",
      " 11  aug_fav_a                  2000 non-null   float64\n",
      " 12  sep_fav_a                  2000 non-null   float64\n",
      " 13  Churn                      2000 non-null   int32  \n",
      "dtypes: float64(8), int32(1), int64(5)\n",
      "memory usage: 211.1 KB\n"
     ]
    }
   ],
   "source": [
    "import numpy as np\n",
    "import pandas as pd\n",
    "from sklearn.preprocessing import OrdinalEncoder\n",
    "\n",
    "import os\n",
    "#Read data\n",
    "raw_data_path =os.path.join(os.path.pardir,os.path.pardir,'data','raw', 'Dataset7')\n",
    "\n",
    "train_file_path = os.path.join(raw_data_path,'data.csv')\n",
    "df = pd.read_csv(train_file_path)\n",
    "df[\"Churn\"] = np.where(df.Class== \"Churned\", 1 ,0)\n",
    "df.info()\n",
    "\n",
    "ord_enc = OrdinalEncoder()\n",
    "df[\"aug_user_type\"] = np.where(df.aug_user_type.isnull(), 'Other' ,df.aug_user_type)\n",
    "df[\"sep_user_type\"] = np.where(df.sep_user_type.isnull(), 'Other' ,df.aug_user_type)\n",
    "df[\"aug_fav_a\"] = np.where(df.sep_user_type.isnull(), '0' ,df.aug_user_type)\n",
    "df[\"sep_fav_a\"] = np.where(df.sep_fav_a.isnull(), 'Other' ,df.aug_user_type)\n",
    "\n",
    "df[\"aug_user_type\"] = ord_enc.fit_transform(df[[\"aug_user_type\"]])\n",
    "df[\"sep_user_type\"] = ord_enc.fit_transform(df[[\"sep_user_type\"]])\n",
    "df[\"aug_fav_a\"] = ord_enc.fit_transform(df[[\"aug_fav_a\"]])\n",
    "df[\"sep_fav_a\"] = ord_enc.fit_transform(df[[\"sep_fav_a\"]])\n",
    "\n",
    "df =df.drop(['Class'], axis=1)\n",
    "df.info()\n"
   ]
  },
  {
   "cell_type": "code",
   "execution_count": 5,
   "metadata": {},
   "outputs": [],
   "source": [
    "proccessed_data_path =os.path.join(os.path.pardir,os.path.pardir,'data','processed')\n",
    "write_train_path = os.path.join(proccessed_data_path,'dataset7.csv')\n",
    "df.to_csv(write_train_path)"
   ]
  },
  {
   "cell_type": "code",
   "execution_count": 6,
   "metadata": {},
   "outputs": [
    {
     "data": {
      "image/png": "[encoded data removed]",
      "text/plain": [
       "<Figure size 432x288 with 1 Axes>"
      ]
     },
     "metadata": {},
     "output_type": "display_data"
    }
   ],
   "source": [
    "df.Churn.value_counts().plot(kind= 'pie', title='Churned proportion of customers', explode = [0,0.1],autopct='%1.1f%%', shadow=True);\n"
   ]
  },
  {
   "cell_type": "code",
   "execution_count": null,
   "metadata": {},
   "outputs": [],
   "source": []
  }
 ],
 "metadata": {
  "kernelspec": {
   "display_name": "Python 3",
   "language": "python",
   "name": "python3"
  },
  "language_info": {
   "codemirror_mode": {
    "name": "ipython",
    "version": 3
   },
   "file_extension": ".py",
   "mimetype": "text/x-python",
   "name": "python",
   "nbconvert_exporter": "python",
   "pygments_lexer": "ipython3",
   "version": "3.8.5"
  }
 },
 "nbformat": 4,
 "nbformat_minor": 4
}
