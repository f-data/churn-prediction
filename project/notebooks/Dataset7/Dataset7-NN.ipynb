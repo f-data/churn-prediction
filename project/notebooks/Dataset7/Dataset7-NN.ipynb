{
 "cells": [
  {
   "cell_type": "code",
   "execution_count": 2,
   "id": "ce0f67b5",
   "metadata": {},
   "outputs": [
    {
     "name": "stdout",
     "output_type": "stream",
     "text": [
      "accuracy : 0.71\n",
      "precision  : 0.71\n",
      "recall  : 0.68\n",
      "f1 score  : 0.69\n",
      "confusion matrix : \n",
      " [[226  80]\n",
      " [ 95 199]]\n"
     ]
    }
   ],
   "source": [
    "#import libraries\n",
    "import tensorflow as tf\n",
    "from tensorflow import keras\n",
    "import numpy as np\n",
    "import keras \n",
    "import pydot\n",
    "import pandas as pd\n",
    "import matplotlib.pyplot as plt\n",
    "from sklearn.model_selection import train_test_split\n",
    "from sklearn.preprocessing import MinMaxScaler, StandardScaler\n",
    "from tensorflow.keras.layers import Input, Dense, Activation,Dropout\n",
    "from tensorflow.keras.models import Sequential, Model\n",
    "from tensorflow.keras import layers\n",
    "from keras.utils import plot_model\n",
    "from imblearn.over_sampling import SMOTE\n",
    "from sklearn.metrics import confusion_matrix, accuracy_score, f1_score, precision_score, recall_score\n",
    "import os\n",
    "\n",
    "proccessed_data_path =os.path.join(os.path.pardir,os.path.pardir,'data','processed')\n",
    "train_path = os.path.join(proccessed_data_path,'dataset7.csv')\n",
    "df = pd.read_csv(train_path)\n",
    "\n",
    "labels=df['Churn']\n",
    "x = df.drop(columns=['Churn'],axis = 'columns')\n",
    "y=np.ravel(labels)\n",
    "\n",
    "x_train,x_test,y_train,y_test = train_test_split(x,y,test_size=0.3)\n",
    "\n",
    "oversample = SMOTE()\n",
    "x_train, y_train = oversample.fit_resample(x_train, y_train)\n",
    "\n",
    "sc = StandardScaler()\n",
    "x_train = sc.fit_transform(x_train)\n",
    "x_test = sc.transform(x_test)\n",
    "nn_model = Sequential()\n",
    "nn_model.add(Dense(64, kernel_regularizer=tf.keras.regularizers.l2(0.001), input_dim=14, activation='relu' ))\n",
    "nn_model.add(Dropout(rate=0.2))\n",
    "nn_model.add(Dense(8,kernel_regularizer=tf.keras.regularizers.l2(0.001),activation='relu'))\n",
    "nn_model.add(Dropout(rate=0.1))\n",
    "nn_model.add(Dense(1, activation='sigmoid'))\n",
    "\n",
    "lr_schedule= tf.keras.optimizers.schedules.InverseTimeDecay( 0.001,\n",
    "      decay_steps=(x_train.shape[0]/32)*50,\n",
    "      decay_rate=1,\n",
    "      staircase=False)\n",
    "def get_optimizer():\n",
    "    return tf.keras.optimizers.Adam(lr_schedule)\n",
    "\n",
    "nn_model.compile(loss = \"binary_crossentropy\", \n",
    "                  optimizer = get_optimizer(), \n",
    "                  metrics=['accuracy'])\n",
    "\n",
    "callback =tf.keras.callbacks.EarlyStopping(monitor='val_accuracy',patience=70,restore_best_weights=True)\n",
    "history = nn_model.fit(x_train, y_train, validation_data=(x_test, y_test), epochs=150, batch_size=10,verbose=0,callbacks=[callback])\n",
    "\n",
    "y_pred = nn_model.predict(x_test)\n",
    "\n",
    "print ('accuracy : {0:.2f}'.format(accuracy_score(y_test,y_pred.round())))\n",
    "print ('precision  : {0:.2f}'.format(precision_score(y_test,y_pred.round())))\n",
    "print ('recall  : {0:.2f}'.format(recall_score(y_test,y_pred.round())))\n",
    "print ('f1 score  : {0:.2f}'.format(f1_score(y_test,y_pred.round())))\n",
    "print ('confusion matrix : \\n {0}'.format(confusion_matrix(y_test,y_pred.round())))"
   ]
  },
  {
   "cell_type": "code",
   "execution_count": null,
   "id": "28bbb82f",
   "metadata": {},
   "outputs": [],
   "source": []
  }
 ],
 "metadata": {
  "kernelspec": {
   "display_name": "Python 3",
   "language": "python",
   "name": "python3"
  },
  "language_info": {
   "codemirror_mode": {
    "name": "ipython",
    "version": 3
   },
   "file_extension": ".py",
   "mimetype": "text/x-python",
   "name": "python",
   "nbconvert_exporter": "python",
   "pygments_lexer": "ipython3",
   "version": "3.8.8"
  }
 },
 "nbformat": 4,
 "nbformat_minor": 5
}
