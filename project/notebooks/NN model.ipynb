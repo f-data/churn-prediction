{
 "cells": [
  {
   "cell_type": "code",
   "execution_count": 12,
   "id": "9f77b33c",
   "metadata": {},
   "outputs": [],
   "source": [
    "#import libraries\n",
    "import tensorflow as tf\n",
    "from tensorflow import keras\n",
    "import numpy as np\n",
    "import keras \n",
    "import pydot\n",
    "import pandas as pd\n",
    "import matplotlib.pyplot as plt\n",
    "from sklearn.model_selection import train_test_split\n",
    "from sklearn.preprocessing import RobustScaler\n",
    "from tensorflow.keras.layers import Input, Dense, Activation,Dropout\n",
    "from tensorflow.keras.models import Sequential, Model\n",
    "from tensorflow.keras import layers\n",
    "from tensorflow.keras.utils import plot_model\n",
    "from imblearn.over_sampling import SMOTENC\n",
    "from sklearn.metrics import confusion_matrix, accuracy_score, f1_score, precision_score, recall_score\n",
    "from sklearn.model_selection import StratifiedKFold\n",
    "import os\n",
    "import shap"
   ]
  },
  {
   "cell_type": "code",
   "execution_count": 13,
   "id": "6e144de7",
   "metadata": {},
   "outputs": [],
   "source": [
    "def init_nn_model(dimensions):\n",
    "    nn_model = Sequential()\n",
    "    nn_model.add(Dense(64, kernel_regularizer=tf.keras.regularizers.l2(0.001), input_dim=dimensions, activation='relu' ))\n",
    "    nn_model.add(Dropout(rate=0.2))\n",
    "    nn_model.add(Dense(8,kernel_regularizer=tf.keras.regularizers.l2(0.001),activation='relu'))\n",
    "    nn_model.add(Dropout(rate=0.1))\n",
    "    nn_model.add(Dense(1, activation='sigmoid'))\n",
    "    \n",
    "def init_lr_schedule(x_train):        \n",
    "    lr_schedule= tf.keras.optimizers.schedules.InverseTimeDecay( 0.001, decay_steps=(x_train.shape[0]/32)*50,decay_rate=1,staircase=False)\n",
    "\n",
    "def get_optimizer():\n",
    "    return tf.keras.optimizers.Adam(lr_schedule)\n",
    "\n",
    "def train_model(x_train ,y_train ,x_test ,y_test, dimensions):\n",
    "    init_nn_model(dimensions)\n",
    "    init_lr_schedule(x_train)\n",
    "    nn_model.compile(loss = \"binary_crossentropy\",  optimizer = get_optimizer(),  metrics=['accuracy'])\n",
    "    callback =tf.keras.callbacks.EarlyStopping(monitor='val_accuracy',patience=70,restore_best_weights=True)\n",
    "    history = nn_model.fit(x_train, y_train, validation_data=(x_test, y_test), epochs=150, batch_size=10,verbose=0,callbacks=[callback])\n",
    "    y_pred = nn_model.predict(x_test)\n",
    "    return y_pred"
   ]
  },
  {
   "cell_type": "markdown",
   "id": "7e44008f",
   "metadata": {},
   "source": [
    "# Dataset 1"
   ]
  },
  {
   "cell_type": "code",
   "execution_count": 15,
   "id": "394f7f57",
   "metadata": {},
   "outputs": [
    {
     "name": "stdout",
     "output_type": "stream",
     "text": [
      "accuracy : 0.92\n",
      "precision  : 0.74\n",
      "recall  : 0.69\n",
      "f1 score  : 0.71\n",
      "confusion matrix : \n",
      " [[1048   45]\n",
      " [  56  126]]\n"
     ]
    }
   ],
   "source": [
    "#Read data\n",
    "proccessed_data_path =os.path.join(os.path.pardir,'data','processed')\n",
    "x_train_path = os.path.join(proccessed_data_path,'1-train-x.csv')\n",
    "x_test_path = os.path.join(proccessed_data_path,'1-test-x.csv')\n",
    "y_train_path = os.path.join(proccessed_data_path,'1-train-y.csv')\n",
    "y_test_path = os.path.join(proccessed_data_path,'1-test-y.csv')\n",
    "\n",
    "dfx = pd.read_csv(x_train_path)\n",
    "dfxt = pd.read_csv(x_test_path)\n",
    "dfy = pd.read_csv(y_train_path)\n",
    "dfyt = pd.read_csv(y_test_path)\n",
    "\n",
    "x_train = dfx.drop(columns=['Unnamed: 0'],axis = 'columns')\n",
    "x_test = dfxt.drop(columns=['Unnamed: 0'],axis = 'columns')\n",
    "y_train = dfy.drop(columns=['Unnamed: 0'],axis = 'columns').values.flatten()\n",
    "y_test = dfyt.drop(columns=['Unnamed: 0'],axis = 'columns').values.flatten()\n",
    "\n",
    "y_pred = train_model(x_train ,y_train ,x_test ,y_test ,20)\n",
    "\n",
    "print ('accuracy : {0:.2f}'.format(accuracy_score(y_test,y_pred.round())))\n",
    "print ('precision  : {0:.2f}'.format(precision_score(y_test,y_pred.round())))\n",
    "print ('recall  : {0:.2f}'.format(recall_score(y_test,y_pred.round())))\n",
    "print ('f1 score  : {0:.2f}'.format(f1_score(y_test,y_pred.round())))\n",
    "print ('confusion matrix : \\n {0}'.format(confusion_matrix(y_test,y_pred.round())))"
   ]
  },
  {
   "cell_type": "markdown",
   "id": "064e9443",
   "metadata": {},
   "source": [
    "# Dataset 2"
   ]
  },
  {
   "cell_type": "code",
   "execution_count": 16,
   "id": "061ec754",
   "metadata": {},
   "outputs": [
    {
     "name": "stdout",
     "output_type": "stream",
     "text": [
      "accuracy : 0.93\n",
      "precision  : 0.78\n",
      "recall  : 0.74\n",
      "f1 score  : 0.76\n",
      "confusion matrix : \n",
      " [[1054   38]\n",
      " [  47  136]]\n"
     ]
    }
   ],
   "source": [
    "#Read data\n",
    "proccessed_data_path =os.path.join(os.path.pardir,'data','processed')\n",
    "x_train_path = os.path.join(proccessed_data_path,'2-train-x.csv')\n",
    "x_test_path = os.path.join(proccessed_data_path,'2-test-x.csv')\n",
    "y_train_path = os.path.join(proccessed_data_path,'2-train-y.csv')\n",
    "y_test_path = os.path.join(proccessed_data_path,'2-test-y.csv')\n",
    "\n",
    "dfx = pd.read_csv(x_train_path)\n",
    "dfxt = pd.read_csv(x_test_path)\n",
    "dfy = pd.read_csv(y_train_path)\n",
    "dfyt = pd.read_csv(y_test_path)\n",
    "\n",
    "x_train = dfx.drop(columns=['Unnamed: 0'],axis = 'columns')\n",
    "x_test = dfxt.drop(columns=['Unnamed: 0'],axis = 'columns')\n",
    "y_train = dfy.drop(columns=['Unnamed: 0'],axis = 'columns').values.flatten()\n",
    "y_test = dfyt.drop(columns=['Unnamed: 0'],axis = 'columns').values.flatten()\n",
    "\n",
    "y_pred = train_model(x_train ,y_train ,x_test ,y_test ,19)\n",
    "\n",
    "print ('accuracy : {0:.2f}'.format(accuracy_score(y_test,y_pred.round())))\n",
    "print ('precision  : {0:.2f}'.format(precision_score(y_test,y_pred.round())))\n",
    "print ('recall  : {0:.2f}'.format(recall_score(y_test,y_pred.round())))\n",
    "print ('f1 score  : {0:.2f}'.format(f1_score(y_test,y_pred.round())))\n",
    "print ('confusion matrix : \\n {0}'.format(confusion_matrix(y_test,y_pred.round())))"
   ]
  },
  {
   "cell_type": "markdown",
   "id": "1326eece",
   "metadata": {},
   "source": [
    "# Dataset 3"
   ]
  },
  {
   "cell_type": "code",
   "execution_count": 17,
   "id": "ec63120e",
   "metadata": {},
   "outputs": [
    {
     "name": "stdout",
     "output_type": "stream",
     "text": [
      "accuracy : 0.94\n",
      "precision  : 0.79\n",
      "recall  : 0.78\n",
      "f1 score  : 0.78\n",
      "confusion matrix : \n",
      " [[1050   38]\n",
      " [  42  145]]\n"
     ]
    }
   ],
   "source": [
    "#Read data\n",
    "proccessed_data_path =os.path.join(os.path.pardir,'data','processed')\n",
    "x_train_path = os.path.join(proccessed_data_path,'3-train-x.csv')\n",
    "x_test_path = os.path.join(proccessed_data_path,'3-test-x.csv')\n",
    "y_train_path = os.path.join(proccessed_data_path,'3-train-y.csv')\n",
    "y_test_path = os.path.join(proccessed_data_path,'3-test-y.csv')\n",
    "\n",
    "dfx = pd.read_csv(x_train_path)\n",
    "dfxt = pd.read_csv(x_test_path)\n",
    "dfy = pd.read_csv(y_train_path)\n",
    "dfyt = pd.read_csv(y_test_path)\n",
    "\n",
    "x_train = dfx.drop(columns=['Unnamed: 0'],axis = 'columns')\n",
    "x_test = dfxt.drop(columns=['Unnamed: 0'],axis = 'columns')\n",
    "y_train = dfy.drop(columns=['Unnamed: 0'],axis = 'columns').values.flatten()\n",
    "y_test = dfyt.drop(columns=['Unnamed: 0'],axis = 'columns').values.flatten()\n",
    "\n",
    "y_pred = train_model(x_train ,y_train ,x_test ,y_test ,19)\n",
    "\n",
    "print ('accuracy : {0:.2f}'.format(accuracy_score(y_test,y_pred.round())))\n",
    "print ('precision  : {0:.2f}'.format(precision_score(y_test,y_pred.round())))\n",
    "print ('recall  : {0:.2f}'.format(recall_score(y_test,y_pred.round())))\n",
    "print ('f1 score  : {0:.2f}'.format(f1_score(y_test,y_pred.round())))\n",
    "print ('confusion matrix : \\n {0}'.format(confusion_matrix(y_test,y_pred.round())))"
   ]
  },
  {
   "cell_type": "markdown",
   "id": "37fc7830",
   "metadata": {},
   "source": [
    "# Dataset 4"
   ]
  },
  {
   "cell_type": "code",
   "execution_count": 18,
   "id": "8622b128",
   "metadata": {},
   "outputs": [
    {
     "name": "stdout",
     "output_type": "stream",
     "text": [
      "accuracy : 0.93\n",
      "precision  : 0.75\n",
      "recall  : 0.77\n",
      "f1 score  : 0.76\n",
      "confusion matrix : \n",
      " [[1059   44]\n",
      " [  39  133]]\n"
     ]
    }
   ],
   "source": [
    "#Read data\n",
    "proccessed_data_path =os.path.join(os.path.pardir,'data','processed')\n",
    "x_train_path = os.path.join(proccessed_data_path,'4-train-x.csv')\n",
    "x_test_path = os.path.join(proccessed_data_path,'4-test-x.csv')\n",
    "y_train_path = os.path.join(proccessed_data_path,'4-train-y.csv')\n",
    "y_test_path = os.path.join(proccessed_data_path,'4-test-y.csv')\n",
    "\n",
    "dfx = pd.read_csv(x_train_path)\n",
    "dfxt = pd.read_csv(x_test_path)\n",
    "dfy = pd.read_csv(y_train_path)\n",
    "dfyt = pd.read_csv(y_test_path)\n",
    "\n",
    "x_train = dfx.drop(columns=['Unnamed: 0'],axis = 'columns')\n",
    "x_test = dfxt.drop(columns=['Unnamed: 0'],axis = 'columns')\n",
    "y_train = dfy.drop(columns=['Unnamed: 0'],axis = 'columns').values.flatten()\n",
    "y_test = dfyt.drop(columns=['Unnamed: 0'],axis = 'columns').values.flatten()\n",
    "\n",
    "y_pred = train_model(x_train ,y_train ,x_test ,y_test ,10)\n",
    "\n",
    "print ('accuracy : {0:.2f}'.format(accuracy_score(y_test,y_pred.round())))\n",
    "print ('precision  : {0:.2f}'.format(precision_score(y_test,y_pred.round())))\n",
    "print ('recall  : {0:.2f}'.format(recall_score(y_test,y_pred.round())))\n",
    "print ('f1 score  : {0:.2f}'.format(f1_score(y_test,y_pred.round())))\n",
    "print ('confusion matrix : \\n {0}'.format(confusion_matrix(y_test,y_pred.round())))"
   ]
  },
  {
   "cell_type": "markdown",
   "id": "5dedda6b",
   "metadata": {},
   "source": [
    "# Dataset 5"
   ]
  },
  {
   "cell_type": "code",
   "execution_count": 19,
   "id": "ba474130",
   "metadata": {},
   "outputs": [
    {
     "name": "stdout",
     "output_type": "stream",
     "text": [
      "accuracy : 0.93\n",
      "precision  : 0.77\n",
      "recall  : 0.74\n",
      "f1 score  : 0.75\n",
      "confusion matrix : \n",
      " [[1044   41]\n",
      " [  50  140]]\n"
     ]
    }
   ],
   "source": [
    "#Read data\n",
    "proccessed_data_path =os.path.join(os.path.pardir,'data','processed')\n",
    "x_train_path = os.path.join(proccessed_data_path,'5-train-x.csv')\n",
    "x_test_path = os.path.join(proccessed_data_path,'5-test-x.csv')\n",
    "y_train_path = os.path.join(proccessed_data_path,'5-train-y.csv')\n",
    "y_test_path = os.path.join(proccessed_data_path,'5-test-y.csv')\n",
    "\n",
    "dfx = pd.read_csv(x_train_path)\n",
    "dfxt = pd.read_csv(x_test_path)\n",
    "dfy = pd.read_csv(y_train_path)\n",
    "dfyt = pd.read_csv(y_test_path)\n",
    "\n",
    "x_train = dfx.drop(columns=['Unnamed: 0'],axis = 'columns')\n",
    "x_test = dfxt.drop(columns=['Unnamed: 0'],axis = 'columns')\n",
    "y_train = dfy.drop(columns=['Unnamed: 0'],axis = 'columns').values.flatten()\n",
    "y_test = dfyt.drop(columns=['Unnamed: 0'],axis = 'columns').values.flatten()\n",
    "\n",
    "y_pred = train_model(x_train ,y_train ,x_test ,y_test ,9)\n",
    "\n",
    "print ('accuracy : {0:.2f}'.format(accuracy_score(y_test,y_pred.round())))\n",
    "print ('precision  : {0:.2f}'.format(precision_score(y_test,y_pred.round())))\n",
    "print ('recall  : {0:.2f}'.format(recall_score(y_test,y_pred.round())))\n",
    "print ('f1 score  : {0:.2f}'.format(f1_score(y_test,y_pred.round())))\n",
    "print ('confusion matrix : \\n {0}'.format(confusion_matrix(y_test,y_pred.round())))"
   ]
  },
  {
   "cell_type": "markdown",
   "id": "cf203731",
   "metadata": {},
   "source": [
    "# Dataset 6"
   ]
  },
  {
   "cell_type": "code",
   "execution_count": 20,
   "id": "136a5054",
   "metadata": {},
   "outputs": [
    {
     "name": "stdout",
     "output_type": "stream",
     "text": [
      "accuracy : 0.93\n",
      "precision  : 0.76\n",
      "recall  : 0.77\n",
      "f1 score  : 0.76\n",
      "confusion matrix : \n",
      " [[1047   45]\n",
      " [  42  141]]\n"
     ]
    }
   ],
   "source": [
    "#Read data\n",
    "proccessed_data_path =os.path.join(os.path.pardir,'data','processed')\n",
    "x_train_path = os.path.join(proccessed_data_path,'6-train-x.csv')\n",
    "x_test_path = os.path.join(proccessed_data_path,'6-test-x.csv')\n",
    "y_train_path = os.path.join(proccessed_data_path,'6-train-y.csv')\n",
    "y_test_path = os.path.join(proccessed_data_path,'6-test-y.csv')\n",
    "\n",
    "dfx = pd.read_csv(x_train_path)\n",
    "dfxt = pd.read_csv(x_test_path)\n",
    "dfy = pd.read_csv(y_train_path)\n",
    "dfyt = pd.read_csv(y_test_path)\n",
    "\n",
    "x_train = dfx.drop(columns=['Unnamed: 0'],axis = 'columns')\n",
    "x_test = dfxt.drop(columns=['Unnamed: 0'],axis = 'columns')\n",
    "y_train = dfy.drop(columns=['Unnamed: 0'],axis = 'columns').values.flatten()\n",
    "y_test = dfyt.drop(columns=['Unnamed: 0'],axis = 'columns').values.flatten()\n",
    "\n",
    "y_pred = train_model(x_train ,y_train ,x_test ,y_test ,17)\n",
    "\n",
    "print ('accuracy : {0:.2f}'.format(accuracy_score(y_test,y_pred.round())))\n",
    "print ('precision  : {0:.2f}'.format(precision_score(y_test,y_pred.round())))\n",
    "print ('recall  : {0:.2f}'.format(recall_score(y_test,y_pred.round())))\n",
    "print ('f1 score  : {0:.2f}'.format(f1_score(y_test,y_pred.round())))\n",
    "print ('confusion matrix : \\n {0}'.format(confusion_matrix(y_test,y_pred.round())))"
   ]
  },
  {
   "cell_type": "markdown",
   "id": "18c1fe77",
   "metadata": {},
   "source": [
    "# Dataset 7"
   ]
  },
  {
   "cell_type": "code",
   "execution_count": 21,
   "id": "fc431ece",
   "metadata": {},
   "outputs": [
    {
     "name": "stdout",
     "output_type": "stream",
     "text": [
      "accuracy : 0.92\n",
      "precision  : 0.70\n",
      "recall  : 0.80\n",
      "f1 score  : 0.75\n",
      "confusion matrix : \n",
      " [[1035   61]\n",
      " [  36  143]]\n"
     ]
    }
   ],
   "source": [
    "#Read data\n",
    "proccessed_data_path =os.path.join(os.path.pardir,'data','processed')\n",
    "x_train_path = os.path.join(proccessed_data_path,'7-train-x.csv')\n",
    "x_test_path = os.path.join(proccessed_data_path,'7-test-x.csv')\n",
    "y_train_path = os.path.join(proccessed_data_path,'7-train-y.csv')\n",
    "y_test_path = os.path.join(proccessed_data_path,'7-test-y.csv')\n",
    "\n",
    "dfx = pd.read_csv(x_train_path)\n",
    "dfxt = pd.read_csv(x_test_path)\n",
    "dfy = pd.read_csv(y_train_path)\n",
    "dfyt = pd.read_csv(y_test_path)\n",
    "\n",
    "x_train = dfx.drop(columns=['Unnamed: 0'],axis = 'columns')\n",
    "x_test = dfxt.drop(columns=['Unnamed: 0'],axis = 'columns')\n",
    "y_train = dfy.drop(columns=['Unnamed: 0'],axis = 'columns').values.flatten()\n",
    "y_test = dfyt.drop(columns=['Unnamed: 0'],axis = 'columns').values.flatten()\n",
    "\n",
    "y_pred = train_model(x_train ,y_train ,x_test ,y_test ,13)\n",
    "\n",
    "print ('accuracy : {0:.2f}'.format(accuracy_score(y_test,y_pred.round())))\n",
    "print ('precision  : {0:.2f}'.format(precision_score(y_test,y_pred.round())))\n",
    "print ('recall  : {0:.2f}'.format(recall_score(y_test,y_pred.round())))\n",
    "print ('f1 score  : {0:.2f}'.format(f1_score(y_test,y_pred.round())))\n",
    "print ('confusion matrix : \\n {0}'.format(confusion_matrix(y_test,y_pred.round())))"
   ]
  },
  {
   "cell_type": "markdown",
   "id": "57f6651e",
   "metadata": {},
   "source": [
    "# Dataset 8"
   ]
  },
  {
   "cell_type": "code",
   "execution_count": 22,
   "id": "7bf30d37",
   "metadata": {},
   "outputs": [
    {
     "name": "stdout",
     "output_type": "stream",
     "text": [
      "accuracy : 0.93\n",
      "precision  : 0.81\n",
      "recall  : 0.72\n",
      "f1 score  : 0.76\n",
      "confusion matrix : \n",
      " [[1059   32]\n",
      " [  51  133]]\n"
     ]
    }
   ],
   "source": [
    "#Read data\n",
    "proccessed_data_path =os.path.join(os.path.pardir,'data','processed')\n",
    "x_train_path = os.path.join(proccessed_data_path,'8-train-x.csv')\n",
    "x_test_path = os.path.join(proccessed_data_path,'8-test-x.csv')\n",
    "y_train_path = os.path.join(proccessed_data_path,'8-train-y.csv')\n",
    "y_test_path = os.path.join(proccessed_data_path,'8-test-y.csv')\n",
    "\n",
    "dfx = pd.read_csv(x_train_path)\n",
    "dfxt = pd.read_csv(x_test_path)\n",
    "dfy = pd.read_csv(y_train_path)\n",
    "dfyt = pd.read_csv(y_test_path)\n",
    "\n",
    "x_train = dfx.drop(columns=['Unnamed: 0'],axis = 'columns')\n",
    "x_test = dfxt.drop(columns=['Unnamed: 0'],axis = 'columns')\n",
    "y_train = dfy.drop(columns=['Unnamed: 0'],axis = 'columns').values.flatten()\n",
    "y_test = dfyt.drop(columns=['Unnamed: 0'],axis = 'columns').values.flatten()\n",
    "\n",
    "y_pred = train_model(x_train ,y_train ,x_test ,y_test ,20)\n",
    "\n",
    "print ('accuracy : {0:.2f}'.format(accuracy_score(y_test,y_pred.round())))\n",
    "print ('precision  : {0:.2f}'.format(precision_score(y_test,y_pred.round())))\n",
    "print ('recall  : {0:.2f}'.format(recall_score(y_test,y_pred.round())))\n",
    "print ('f1 score  : {0:.2f}'.format(f1_score(y_test,y_pred.round())))\n",
    "print ('confusion matrix : \\n {0}'.format(confusion_matrix(y_test,y_pred.round())))"
   ]
  },
  {
   "cell_type": "markdown",
   "id": "90c1c899",
   "metadata": {},
   "source": [
    "# Dataset 9"
   ]
  },
  {
   "cell_type": "code",
   "execution_count": 23,
   "id": "52f9803a",
   "metadata": {},
   "outputs": [
    {
     "name": "stdout",
     "output_type": "stream",
     "text": [
      "accuracy : 0.94\n",
      "precision  : 0.74\n",
      "recall  : 0.82\n",
      "f1 score  : 0.78\n",
      "confusion matrix : \n",
      " [[1066   46]\n",
      " [  29  134]]\n"
     ]
    }
   ],
   "source": [
    "#Read data\n",
    "proccessed_data_path =os.path.join(os.path.pardir,'data','processed')\n",
    "x_train_path = os.path.join(proccessed_data_path,'9-train-x.csv')\n",
    "x_test_path = os.path.join(proccessed_data_path,'9-test-x.csv')\n",
    "y_train_path = os.path.join(proccessed_data_path,'9-train-y.csv')\n",
    "y_test_path = os.path.join(proccessed_data_path,'9-test-y.csv')\n",
    "\n",
    "dfx = pd.read_csv(x_train_path)\n",
    "dfxt = pd.read_csv(x_test_path)\n",
    "dfy = pd.read_csv(y_train_path)\n",
    "dfyt = pd.read_csv(y_test_path)\n",
    "\n",
    "x_train = dfx.drop(columns=['Unnamed: 0'],axis = 'columns')\n",
    "x_test = dfxt.drop(columns=['Unnamed: 0'],axis = 'columns')\n",
    "y_train = dfy.drop(columns=['Unnamed: 0'],axis = 'columns').values.flatten()\n",
    "y_test = dfyt.drop(columns=['Unnamed: 0'],axis = 'columns').values.flatten()\n",
    "\n",
    "y_pred = train_model(x_train ,y_train ,x_test ,y_test ,14)\n",
    "\n",
    "print ('accuracy : {0:.2f}'.format(accuracy_score(y_test,y_pred.round())))\n",
    "print ('precision  : {0:.2f}'.format(precision_score(y_test,y_pred.round())))\n",
    "print ('recall  : {0:.2f}'.format(recall_score(y_test,y_pred.round())))\n",
    "print ('f1 score  : {0:.2f}'.format(f1_score(y_test,y_pred.round())))\n",
    "print ('confusion matrix : \\n {0}'.format(confusion_matrix(y_test,y_pred.round())))"
   ]
  },
  {
   "cell_type": "markdown",
   "id": "bf48a439",
   "metadata": {},
   "source": [
    "# Dataset 10"
   ]
  },
  {
   "cell_type": "code",
   "execution_count": 24,
   "id": "3227001b",
   "metadata": {},
   "outputs": [
    {
     "name": "stdout",
     "output_type": "stream",
     "text": [
      "accuracy : 0.93\n",
      "precision  : 0.76\n",
      "recall  : 0.76\n",
      "f1 score  : 0.76\n",
      "confusion matrix : \n",
      " [[1062   41]\n",
      " [  42  130]]\n"
     ]
    }
   ],
   "source": [
    "#Read data\n",
    "proccessed_data_path =os.path.join(os.path.pardir,'data','processed')\n",
    "x_train_path = os.path.join(proccessed_data_path,'10-train-x.csv')\n",
    "x_test_path = os.path.join(proccessed_data_path,'10-test-x.csv')\n",
    "y_train_path = os.path.join(proccessed_data_path,'10-train-y.csv')\n",
    "y_test_path = os.path.join(proccessed_data_path,'10-test-y.csv')\n",
    "\n",
    "dfx = pd.read_csv(x_train_path)\n",
    "dfxt = pd.read_csv(x_test_path)\n",
    "dfy = pd.read_csv(y_train_path)\n",
    "dfyt = pd.read_csv(y_test_path)\n",
    "\n",
    "x_train = dfx.drop(columns=['Unnamed: 0'],axis = 'columns')\n",
    "x_test = dfxt.drop(columns=['Unnamed: 0'],axis = 'columns')\n",
    "y_train = dfy.drop(columns=['Unnamed: 0'],axis = 'columns').values.flatten()\n",
    "y_test = dfyt.drop(columns=['Unnamed: 0'],axis = 'columns').values.flatten()\n",
    "\n",
    "y_pred = train_model(x_train ,y_train ,x_test ,y_test ,5)\n",
    "\n",
    "print ('accuracy : {0:.2f}'.format(accuracy_score(y_test,y_pred.round())))\n",
    "print ('precision  : {0:.2f}'.format(precision_score(y_test,y_pred.round())))\n",
    "print ('recall  : {0:.2f}'.format(recall_score(y_test,y_pred.round())))\n",
    "print ('f1 score  : {0:.2f}'.format(f1_score(y_test,y_pred.round())))\n",
    "print ('confusion matrix : \\n {0}'.format(confusion_matrix(y_test,y_pred.round())))"
   ]
  },
  {
   "cell_type": "code",
   "execution_count": null,
   "id": "e28de6db",
   "metadata": {},
   "outputs": [],
   "source": []
  }
 ],
 "metadata": {
  "kernelspec": {
   "display_name": "Python 3 (ipykernel)",
   "language": "python",
   "name": "python3"
  },
  "language_info": {
   "codemirror_mode": {
    "name": "ipython",
    "version": 3
   },
   "file_extension": ".py",
   "mimetype": "text/x-python",
   "name": "python",
   "nbconvert_exporter": "python",
   "pygments_lexer": "ipython3",
   "version": "3.9.7"
  }
 },
 "nbformat": 4,
 "nbformat_minor": 5
}
