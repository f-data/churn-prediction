{
 "cells": [
  {
   "cell_type": "code",
   "execution_count": 3,
   "metadata": {},
   "outputs": [
    {
     "name": "stdout",
     "output_type": "stream",
     "text": [
      "<class 'pandas.core.frame.DataFrame'>\n",
      "RangeIndex: 10127 entries, 0 to 10126\n",
      "Data columns (total 20 columns):\n",
      " #   Column                    Non-Null Count  Dtype  \n",
      "---  ------                    --------------  -----  \n",
      " 0   Churn                     10127 non-null  float64\n",
      " 1   Customer_Age              10127 non-null  int64  \n",
      " 2   Dependent_count           10127 non-null  int64  \n",
      " 3   Education_Level           10127 non-null  float64\n",
      " 4   Marital_Status            10127 non-null  float64\n",
      " 5   Income_Category           10127 non-null  float64\n",
      " 6   Card_Category             10127 non-null  float64\n",
      " 7   Months_on_book            10127 non-null  int64  \n",
      " 8   Total_Relationship_Count  10127 non-null  int64  \n",
      " 9   Months_Inactive_12_mon    10127 non-null  int64  \n",
      " 10  Contacts_Count_12_mon     10127 non-null  int64  \n",
      " 11  Credit_Limit              10127 non-null  float64\n",
      " 12  Total_Revolving_Bal       10127 non-null  int64  \n",
      " 13  Avg_Open_To_Buy           10127 non-null  float64\n",
      " 14  Total_Amt_Chng_Q4_Q1      10127 non-null  float64\n",
      " 15  Total_Trans_Amt           10127 non-null  int64  \n",
      " 16  Total_Trans_Ct            10127 non-null  int64  \n",
      " 17  Total_Ct_Chng_Q4_Q1       10127 non-null  float64\n",
      " 18  Avg_Utilization_Ratio     10127 non-null  float64\n",
      " 19  IsMale                    10127 non-null  int32  \n",
      "dtypes: float64(10), int32(1), int64(9)\n",
      "memory usage: 1.5 MB\n"
     ]
    }
   ],
   "source": [
    "import numpy as np\n",
    "import pandas as pd\n",
    "from sklearn.preprocessing import OrdinalEncoder\n",
    "import os\n",
    "\n",
    "#Read data\n",
    "raw_data_path =os.path.join(os.path.pardir,os.path.pardir,'data','raw', 'Dataset3')\n",
    "train_file_path = os.path.join(raw_data_path,'data.csv')\n",
    "df = pd.read_csv(train_file_path)\n",
    "df[\"IsMale\"] = np.where(df.Gender== \"M\", 1 ,0)\n",
    "\n",
    "df =df.drop(['Gender','CLIENTNUM','Naive_Bayes_Classifier_Attrition_Flag_Card_Category_Contacts_Count_12_mon_Dependent_count_Education_Level_Months_Inactive_12_mon_1','Naive_Bayes_Classifier_Attrition_Flag_Card_Category_Contacts_Count_12_mon_Dependent_count_Education_Level_Months_Inactive_12_mon_2'], axis=1)\n",
    "ord_enc = OrdinalEncoder()\n",
    "\n",
    "df[\"Attrition_Flag\"] = ord_enc.fit_transform(df[[\"Attrition_Flag\"]])\n",
    "df[\"Education_Level\"] = ord_enc.fit_transform(df[[\"Education_Level\"]])\n",
    "df[\"Card_Category\"] = ord_enc.fit_transform(df[[\"Card_Category\"]])\n",
    "df[\"Income_Category\"] = ord_enc.fit_transform(df[[\"Income_Category\"]])\n",
    "df[\"Marital_Status\"] = ord_enc.fit_transform(df[[\"Marital_Status\"]])\n",
    "\n",
    "df = df.rename(columns={'Attrition_Flag': 'Churn', })\n",
    "\n",
    "df.info()"
   ]
  },
  {
   "cell_type": "code",
   "execution_count": 4,
   "metadata": {},
   "outputs": [],
   "source": [
    "proccessed_data_path =os.path.join(os.path.pardir,os.path.pardir,'data','processed')\n",
    "write_train_path = os.path.join(proccessed_data_path,'dataset3.csv')\n",
    "df.to_csv(write_train_path)"
   ]
  },
  {
   "cell_type": "code",
   "execution_count": 5,
   "metadata": {},
   "outputs": [
    {
     "data": {
      "image/png": "[encoded data removed]",
      "text/plain": [
       "<Figure size 432x288 with 1 Axes>"
      ]
     },
     "metadata": {},
     "output_type": "display_data"
    }
   ],
   "source": [
    "df.Churn.value_counts().plot(kind= 'pie', title='Churned proportion of customers', explode = [0,0.1],autopct='%1.1f%%', shadow=True);\n"
   ]
  },
  {
   "cell_type": "code",
   "execution_count": null,
   "metadata": {},
   "outputs": [],
   "source": []
  },
  {
   "cell_type": "code",
   "execution_count": null,
   "metadata": {},
   "outputs": [],
   "source": []
  }
 ],
 "metadata": {
  "kernelspec": {
   "display_name": "Python 3",
   "language": "python",
   "name": "python3"
  },
  "language_info": {
   "codemirror_mode": {
    "name": "ipython",
    "version": 3
   },
   "file_extension": ".py",
   "mimetype": "text/x-python",
   "name": "python",
   "nbconvert_exporter": "python",
   "pygments_lexer": "ipython3",
   "version": "3.8.5"
  }
 },
 "nbformat": 4,
 "nbformat_minor": 4
}
