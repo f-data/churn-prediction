{
 "cells": [
  {
   "cell_type": "code",
   "execution_count": 8,
   "metadata": {},
   "outputs": [
    {
     "name": "stdout",
     "output_type": "stream",
     "text": [
      "<class 'pandas.core.frame.DataFrame'>\n",
      "RangeIndex: 10000 entries, 0 to 9999\n",
      "Data columns (total 10 columns):\n",
      " #   Column           Non-Null Count  Dtype  \n",
      "---  ------           --------------  -----  \n",
      " 0   CreditScore      10000 non-null  int64  \n",
      " 1   Age              10000 non-null  int64  \n",
      " 2   Tenure           10000 non-null  int64  \n",
      " 3   Balance          10000 non-null  float64\n",
      " 4   NumOfProducts    10000 non-null  int64  \n",
      " 5   HasCrCard        10000 non-null  int64  \n",
      " 6   IsActiveMember   10000 non-null  int64  \n",
      " 7   EstimatedSalary  10000 non-null  float64\n",
      " 8   Churn            10000 non-null  int64  \n",
      " 9   IsMale           10000 non-null  int32  \n",
      "dtypes: float64(2), int32(1), int64(7)\n",
      "memory usage: 742.3 KB\n"
     ]
    }
   ],
   "source": [
    "#Add needed imports\n",
    "import numpy as np\n",
    "import pandas as pd\n",
    "import os\n",
    "#Read data\n",
    "raw_data_path =os.path.join(os.path.pardir,os.path.pardir,'data','raw')\n",
    "train_file_path = os.path.join(raw_data_path,'Dataset5','Churn Modeling.csv')\n",
    "df = pd.read_csv(train_file_path)\n",
    "\n",
    "df[\"IsMale\"] = np.where(df.Gender== \"Male\", 1 ,0)\n",
    "df =df.drop(['RowNumber','CustomerId','Surname','Gender','Geography'], axis=1)\n",
    "df = df.rename(columns={'Exited': 'Churn', })\n",
    "\n",
    "df.info()"
   ]
  },
  {
   "cell_type": "code",
   "execution_count": 9,
   "metadata": {},
   "outputs": [
    {
     "data": {
      "image/png": "[encoded data removed]",
      "text/plain": [
       "<Figure size 432x288 with 1 Axes>"
      ]
     },
     "metadata": {},
     "output_type": "display_data"
    }
   ],
   "source": [
    "df.Churn.value_counts().plot(kind= 'pie', title='Churned proportion of customers', explode = [0,0.1],autopct='%1.1f%%', shadow=True);"
   ]
  },
  {
   "cell_type": "code",
   "execution_count": 7,
   "metadata": {},
   "outputs": [],
   "source": [
    "proccessed_data_path =os.path.join(os.path.pardir,os.path.pardir,'data','processed')\n",
    "write_train_path = os.path.join(proccessed_data_path,'dataset5.csv')\n",
    "df.to_csv(write_train_path)"
   ]
  },
  {
   "cell_type": "code",
   "execution_count": null,
   "metadata": {},
   "outputs": [],
   "source": []
  }
 ],
 "metadata": {
  "kernelspec": {
   "display_name": "Python 3",
   "language": "python",
   "name": "python3"
  },
  "language_info": {
   "codemirror_mode": {
    "name": "ipython",
    "version": 3
   },
   "file_extension": ".py",
   "mimetype": "text/x-python",
   "name": "python",
   "nbconvert_exporter": "python",
   "pygments_lexer": "ipython3",
   "version": "3.8.5"
  }
 },
 "nbformat": 4,
 "nbformat_minor": 4
}
