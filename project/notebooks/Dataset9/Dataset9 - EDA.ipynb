{
 "cells": [
  {
   "cell_type": "code",
   "execution_count": 1,
   "metadata": {},
   "outputs": [],
   "source": [
    "import numpy as np\n",
    "import pandas as pd\n",
    "from sklearn.preprocessing import OrdinalEncoder\n",
    "import os\n",
    "\n",
    "#Read data\n",
    "raw_data_path =os.path.join(os.path.pardir,os.path.pardir,'data','raw', 'Dataset9')\n",
    "train_file_path = os.path.join(raw_data_path,'data.csv')\n",
    "df = pd.read_csv(train_file_path)\n",
    "\n",
    "df = df.drop([df.index[1400], df.index[303]])\n",
    "\n",
    "df[\"Churn\"] = df[\"Churn Status\"]\n",
    "df[\"Network type subscription in Month 2\"] = np.where(df[\"Network type subscription in Month 2\"].isnull(), 'Other' ,df[\"Network type subscription in Month 2\"])\n",
    "df[\"Network type subscription in Month 1\"] = np.where(df[\"Network type subscription in Month 1\"].isnull(), 'Other' ,df[\"Network type subscription in Month 1\"])\n",
    "df[\"Most Loved Competitor network in in Month 1\"] = np.where(df[\"Most Loved Competitor network in in Month 1\"].isnull(), '0' ,df[\"Most Loved Competitor network in in Month 1\"])\n",
    "ord_enc = OrdinalEncoder()\n",
    "df[\"Network type subscription in Month 1\"] = ord_enc.fit_transform(df[[\"Network type subscription in Month 1\"]])\n",
    "df[\"Network type subscription in Month 2\"] = ord_enc.fit_transform(df[[\"Network type subscription in Month 2\"]])\n",
    "df[\"Most Loved Competitor network in in Month 1\"] = ord_enc.fit_transform(df[[\"Most Loved Competitor network in in Month 1\"]])\n",
    "df[\"Most Loved Competitor network in in Month 2\"] = ord_enc.fit_transform(df[[\"Most Loved Competitor network in in Month 2\"]])\n",
    "\n",
    "df =df.drop(['Churn Status', 'Customer ID'], axis=1)\n"
   ]
  },
  {
   "cell_type": "code",
   "execution_count": 2,
   "metadata": {},
   "outputs": [],
   "source": [
    "proccessed_data_path =os.path.join(os.path.pardir,os.path.pardir,'data','processed')\n",
    "write_train_path = os.path.join(proccessed_data_path,'dataset9.csv')\n",
    "df.to_csv(write_train_path)"
   ]
  },
  {
   "cell_type": "code",
   "execution_count": 3,
   "metadata": {},
   "outputs": [
    {
     "data": {
      "image/png": "[encoded data removed]",
      "text/plain": [
       "<Figure size 432x288 with 1 Axes>"
      ]
     },
     "metadata": {},
     "output_type": "display_data"
    }
   ],
   "source": [
    "df.Churn.value_counts().plot(kind= 'pie', title='Churned proportion of customers', explode = [0,0.1],autopct='%1.1f%%', shadow=True);\n"
   ]
  },
  {
   "cell_type": "code",
   "execution_count": null,
   "metadata": {},
   "outputs": [],
   "source": []
  }
 ],
 "metadata": {
  "kernelspec": {
   "display_name": "Python 3",
   "language": "python",
   "name": "python3"
  },
  "language_info": {
   "codemirror_mode": {
    "name": "ipython",
    "version": 3
   },
   "file_extension": ".py",
   "mimetype": "text/x-python",
   "name": "python",
   "nbconvert_exporter": "python",
   "pygments_lexer": "ipython3",
   "version": "3.8.5"
  }
 },
 "nbformat": 4,
 "nbformat_minor": 4
}
