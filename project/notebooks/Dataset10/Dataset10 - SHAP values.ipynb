{
 "cells": [
  {
   "cell_type": "code",
   "execution_count": 1,
   "metadata": {},
   "outputs": [
    {
     "name": "stdout",
     "output_type": "stream",
     "text": [
      "WARNING:tensorflow:From C:\\Users\\ggj\\Anaconda3\\envs\\tensorflow-env\\lib\\site-packages\\tensorflow\\python\\compat\\v2_compat.py:96: disable_resource_variables (from tensorflow.python.ops.variable_scope) is deprecated and will be removed in a future version.\n",
      "Instructions for updating:\n",
      "non-resource variables are not supported in the long term\n",
      "Iteration 1\n"
     ]
    },
    {
     "name": "stderr",
     "output_type": "stream",
     "text": [
      "ntree_limit is deprecated, use `iteration_range` or model slicing instead.\n"
     ]
    },
    {
     "name": "stdout",
     "output_type": "stream",
     "text": [
      " XGB - feature_importance_vals\n",
      "                      0.176695\n",
      "                      0.481542\n",
      "                      0.093554\n",
      "                      0.561953\n",
      "                      3.025895\n",
      " DT - feature_importance_vals\n",
      "                     0.015542\n",
      "                     0.017255\n",
      "                     0.018963\n",
      "                     0.070112\n",
      "                     0.311308\n",
      "WARNING:tensorflow:From C:\\Users\\ggj\\Anaconda3\\envs\\tensorflow-env\\lib\\site-packages\\tensorflow\\python\\keras\\engine\\training_v1.py:2048: Model.state_updates (from tensorflow.python.keras.engine.training) is deprecated and will be removed in a future version.\n",
      "Instructions for updating:\n",
      "This property should not be used in TensorFlow 2.0, as updates are applied automatically.\n"
     ]
    },
    {
     "name": "stderr",
     "output_type": "stream",
     "text": [
      "keras is no longer supported, please use tf.keras instead.\n"
     ]
    },
    {
     "name": "stdout",
     "output_type": "stream",
     "text": [
      " NN - feature_importance_vals\n",
      "                     0.036059\n",
      "                     0.016186\n",
      "                     0.021167\n",
      "                     0.066522\n",
      "                     0.254797\n",
      "Iteration 2\n",
      " XGB - feature_importance_vals\n",
      "                      0.236461\n",
      "                      0.393046\n",
      "                      0.127892\n",
      "                      0.832490\n",
      "                      2.838597\n",
      " DT - feature_importance_vals\n",
      "                     0.025015\n",
      "                     0.012944\n",
      "                     0.010940\n",
      "                     0.086070\n",
      "                     0.323735\n"
     ]
    },
    {
     "name": "stderr",
     "output_type": "stream",
     "text": [
      "ntree_limit is deprecated, use `iteration_range` or model slicing instead.\n"
     ]
    },
    {
     "name": "stdout",
     "output_type": "stream",
     "text": [
      " NN - feature_importance_vals\n",
      "                     0.041586\n",
      "                     0.017919\n",
      "                     0.048167\n",
      "                     0.127517\n",
      "                     0.235321\n",
      "Iteration 3\n",
      " XGB - feature_importance_vals\n",
      "                      0.247316\n",
      "                      0.431490\n",
      "                      0.110670\n",
      "                      0.784239\n",
      "                      2.614814\n"
     ]
    },
    {
     "name": "stderr",
     "output_type": "stream",
     "text": [
      "ntree_limit is deprecated, use `iteration_range` or model slicing instead.\n"
     ]
    },
    {
     "name": "stdout",
     "output_type": "stream",
     "text": [
      " DT - feature_importance_vals\n",
      "                     0.019207\n",
      "                     0.018171\n",
      "                     0.007537\n",
      "                     0.069178\n",
      "                     0.393239\n",
      " NN - feature_importance_vals\n",
      "                     0.063562\n",
      "                     0.018707\n",
      "                     0.068052\n",
      "                     0.135102\n",
      "                     0.557953\n",
      "Iteration 4\n"
     ]
    },
    {
     "name": "stderr",
     "output_type": "stream",
     "text": [
      "ntree_limit is deprecated, use `iteration_range` or model slicing instead.\n"
     ]
    },
    {
     "name": "stdout",
     "output_type": "stream",
     "text": [
      " XGB - feature_importance_vals\n",
      "                      0.310525\n",
      "                      0.414355\n",
      "                      0.121482\n",
      "                      0.732311\n",
      "                      2.661580\n",
      " DT - feature_importance_vals\n",
      "                     0.023224\n",
      "                     0.013875\n",
      "                     0.026275\n",
      "                     0.080181\n",
      "                     0.339333\n",
      " NN - feature_importance_vals\n",
      "                     0.065933\n",
      "                     0.036401\n",
      "                     0.078681\n",
      "                     0.122305\n",
      "                     0.361365\n",
      "Iteration 5\n"
     ]
    },
    {
     "name": "stderr",
     "output_type": "stream",
     "text": [
      "ntree_limit is deprecated, use `iteration_range` or model slicing instead.\n"
     ]
    },
    {
     "name": "stdout",
     "output_type": "stream",
     "text": [
      " XGB - feature_importance_vals\n",
      "                      0.241903\n",
      "                      0.433238\n",
      "                      0.132904\n",
      "                      0.715919\n",
      "                      2.640357\n",
      " DT - feature_importance_vals\n",
      "                     0.014456\n",
      "                     0.007346\n",
      "                     0.023632\n",
      "                     0.067460\n",
      "                     0.390410\n",
      " NN - feature_importance_vals\n",
      "                     0.073215\n",
      "                     0.030267\n",
      "                     0.057100\n",
      "                     0.116853\n",
      "                     0.439250\n",
      "Iteration 6\n"
     ]
    },
    {
     "name": "stderr",
     "output_type": "stream",
     "text": [
      "ntree_limit is deprecated, use `iteration_range` or model slicing instead.\n"
     ]
    },
    {
     "name": "stdout",
     "output_type": "stream",
     "text": [
      " XGB - feature_importance_vals\n",
      "                      0.265111\n",
      "                      0.464748\n",
      "                      0.133016\n",
      "                      0.742245\n",
      "                      2.600927\n",
      " DT - feature_importance_vals\n",
      "                     0.017601\n",
      "                     0.015076\n",
      "                     0.016471\n",
      "                     0.068233\n",
      "                     0.382302\n",
      " NN - feature_importance_vals\n",
      "                     0.067991\n",
      "                     0.031165\n",
      "                     0.070096\n",
      "                     0.105661\n",
      "                     0.593746\n",
      "Iteration 7\n",
      " XGB - feature_importance_vals\n",
      "                      0.243304\n",
      "                      0.436372\n",
      "                      0.094794\n",
      "                      0.701572\n",
      "                      2.632447\n",
      " DT - feature_importance_vals\n",
      "                     0.020544\n",
      "                     0.016735\n",
      "                     0.021917\n",
      "                     0.068750\n",
      "                     0.369106\n"
     ]
    },
    {
     "name": "stderr",
     "output_type": "stream",
     "text": [
      "ntree_limit is deprecated, use `iteration_range` or model slicing instead.\n"
     ]
    },
    {
     "name": "stdout",
     "output_type": "stream",
     "text": [
      " NN - feature_importance_vals\n",
      "                     0.074090\n",
      "                     0.024886\n",
      "                     0.074690\n",
      "                     0.153804\n",
      "                     0.422100\n",
      "Iteration 8\n"
     ]
    },
    {
     "name": "stderr",
     "output_type": "stream",
     "text": [
      "ntree_limit is deprecated, use `iteration_range` or model slicing instead.\n"
     ]
    },
    {
     "name": "stdout",
     "output_type": "stream",
     "text": [
      " XGB - feature_importance_vals\n",
      "                      0.256523\n",
      "                      0.441880\n",
      "                      0.106058\n",
      "                      0.741223\n",
      "                      2.613120\n",
      " DT - feature_importance_vals\n",
      "                     0.015226\n",
      "                     0.011058\n",
      "                     0.017001\n",
      "                     0.070953\n",
      "                     0.365068\n",
      " NN - feature_importance_vals\n",
      "                     0.062235\n",
      "                     0.045789\n",
      "                     0.065275\n",
      "                     0.096802\n",
      "                     0.515527\n",
      "Iteration 9\n",
      " XGB - feature_importance_vals\n",
      "                      0.254517\n",
      "                      0.444805\n",
      "                      0.132538\n",
      "                      0.750862\n",
      "                      2.603486\n",
      " DT - feature_importance_vals\n",
      "                     0.018606\n",
      "                     0.011777\n",
      "                     0.014597\n",
      "                     0.064246\n",
      "                     0.382838\n"
     ]
    },
    {
     "name": "stderr",
     "output_type": "stream",
     "text": [
      "ntree_limit is deprecated, use `iteration_range` or model slicing instead.\n"
     ]
    },
    {
     "name": "stdout",
     "output_type": "stream",
     "text": [
      " NN - feature_importance_vals\n",
      "                     0.061589\n",
      "                     0.036579\n",
      "                     0.050149\n",
      "                     0.106739\n",
      "                     0.607112\n",
      "Iteration 10\n"
     ]
    },
    {
     "name": "stderr",
     "output_type": "stream",
     "text": [
      "ntree_limit is deprecated, use `iteration_range` or model slicing instead.\n"
     ]
    },
    {
     "name": "stdout",
     "output_type": "stream",
     "text": [
      " XGB - feature_importance_vals\n",
      "                      0.270703\n",
      "                      0.449296\n",
      "                      0.118051\n",
      "                      0.759493\n",
      "                      2.610472\n",
      " DT - feature_importance_vals\n",
      "                     0.019647\n",
      "                     0.017133\n",
      "                     0.009721\n",
      "                     0.067553\n",
      "                     0.389836\n",
      " NN - feature_importance_vals\n",
      "                     0.094557\n",
      "                     0.053412\n",
      "                     0.065467\n",
      "                     0.153888\n",
      "                     0.492469\n"
     ]
    }
   ],
   "source": [
    "#Add needed imports\n",
    "import numpy as np\n",
    "import pandas as pd\n",
    "import os\n",
    "import shap\n",
    "from numpy import mean\n",
    "from imblearn.over_sampling import SMOTENC\n",
    "from sklearn.preprocessing import RobustScaler\n",
    "from xgboost import XGBClassifier\n",
    "from sklearn.tree import DecisionTreeClassifier  \n",
    "from sklearn.model_selection import StratifiedKFold\n",
    "import tensorflow as tf\n",
    "from tensorflow import keras\n",
    "import numpy as np\n",
    "import keras \n",
    "import pydot\n",
    "import pandas as pd\n",
    "import matplotlib.pyplot as plt\n",
    "from sklearn.model_selection import train_test_split\n",
    "from sklearn.preprocessing import RobustScaler\n",
    "from tensorflow.keras.layers import Input, Dense, Activation,Dropout\n",
    "from tensorflow.keras.models import Sequential, Model\n",
    "from tensorflow.keras import layers\n",
    "from keras.utils import plot_model\n",
    "from imblearn.over_sampling import SMOTENC\n",
    "from sklearn.metrics import confusion_matrix, accuracy_score, f1_score, precision_score, recall_score\n",
    "from sklearn.model_selection import StratifiedKFold\n",
    "import os\n",
    "import shap\n",
    "\n",
    "from tensorflow.compat.v1.keras.backend import get_session\n",
    "tf.compat.v1.disable_v2_behavior()\n",
    "#Read data\n",
    "proccessed_data_path =os.path.join(os.path.pardir,os.path.pardir,'data','processed')\n",
    "train_path = os.path.join(proccessed_data_path,'dataset10.csv')\n",
    "df = pd.read_csv(train_path)\n",
    "labels=df['Churn']\n",
    "x = df.drop(columns=['Churn','Unnamed: 0'],axis = 'columns')\n",
    "y=np.ravel(labels)\n",
    "oversample = SMOTENC(categorical_features=[2])\n",
    "x, y = oversample.fit_resample(x, y)\n",
    "sc = RobustScaler()\n",
    "x = pd.DataFrame(sc.fit_transform(x),columns = x.columns)\n",
    "ii = 1\n",
    "\n",
    "xgb_model = XGBClassifier(random_state=1,learning_rate=0.05, max_depth=7,eval_metric='mlogloss',use_label_encoder =False ,objective=\"binary:logistic\")\n",
    "dt_model=DecisionTreeClassifier(random_state=1,criterion='entropy',max_depth = 7,min_samples_leaf=30)  \n",
    "nn_model = Sequential()\n",
    "nn_model.add(Dense(64, kernel_regularizer=tf.keras.regularizers.l2(0.001), input_dim=5, activation='relu' ))\n",
    "nn_model.add(Dropout(rate=0.2))\n",
    "nn_model.add(Dense(8,kernel_regularizer=tf.keras.regularizers.l2(0.001),activation='relu'))\n",
    "nn_model.add(Dropout(rate=0.1))\n",
    "nn_model.add(Dense(1, activation='sigmoid'))\n",
    "\n",
    "callback = tf.keras.callbacks.EarlyStopping(monitor='val_acc',patience=70,restore_best_weights=True)\n",
    "cv = StratifiedKFold(n_splits=10)\n",
    "for train_index, test_index in cv.split(x, y):\n",
    "\tprint(\"Iteration\" , ii)\n",
    "\tXi_train, Xi_test = x.loc[train_index], x.loc[train_index]\n",
    "\tyi_train, yi_test = y[train_index], y[test_index]\n",
    "\txgb_model.fit(Xi_train,yi_train)\n",
    "\tshap_values = shap.TreeExplainer(xgb_model).shap_values(Xi_test,approximate=True)\n",
    "\t#shap.summary_plot(shap_values, Xi_test, plot_type=\"bar\")\n",
    "\tvals = np.abs(shap_values).mean(axis=0)\n",
    "\tprint(pd.DataFrame(list(zip(vals)),columns=['XGB - feature_importance_vals']).to_string(index=False))    \n",
    "\tXi_train, Xi_test = x.loc[train_index], x.loc[test_index]\n",
    "\tyi_train, yi_test = y[train_index], y[test_index]\n",
    "\tdt_model.fit(Xi_train,yi_train)\n",
    "\texplainer = shap.TreeExplainer(dt_model)\n",
    "\tshap_values = explainer.shap_values(Xi_test)\n",
    "\t#shap.summary_plot(shap_values[1], Xi_test, plot_type=\"bar\")\n",
    "\tvals = np.abs(shap_values[1]).mean(axis=0)\n",
    "\tprint( pd.DataFrame(list(zip(vals)),columns=['DT - feature_importance_vals']).to_string(index=False))\n",
    "\tlr_schedule= tf.keras.optimizers.schedules.InverseTimeDecay( 0.001,decay_steps=(Xi_train.shape[0]/32)*50,decay_rate=1,staircase=False)\n",
    "\tnn_model.compile(loss = \"binary_crossentropy\", optimizer = tf.keras.optimizers.Adam(lr_schedule), metrics=['accuracy'])\n",
    "\tnn_model.fit(Xi_train, yi_train, validation_data=(Xi_test, yi_test), epochs=150, batch_size=10,verbose=0,callbacks=[callback])\n",
    "\texplainer = shap.DeepExplainer(nn_model, Xi_train[1:100].to_numpy())\n",
    "\tshap_values = explainer.shap_values(Xi_test[1:20].to_numpy())\n",
    "\tvals = np.abs(shap_values[0]).mean(axis=0)\n",
    "\tprint( pd.DataFrame(list(zip(vals)),columns=['NN - feature_importance_vals']).to_string(index=False))\n",
    "\tii += 1                             "
   ]
  }
 ],
 "metadata": {
  "kernelspec": {
   "display_name": "Python 3 (ipykernel)",
   "language": "python",
   "name": "python3"
  },
  "language_info": {
   "codemirror_mode": {
    "name": "ipython",
    "version": 3
   },
   "file_extension": ".py",
   "mimetype": "text/x-python",
   "name": "python",
   "nbconvert_exporter": "python",
   "pygments_lexer": "ipython3",
   "version": "3.8.8"
  }
 },
 "nbformat": 4,
 "nbformat_minor": 4
}
