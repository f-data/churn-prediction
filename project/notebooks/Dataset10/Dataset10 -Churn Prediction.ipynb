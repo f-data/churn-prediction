{
 "cells": [
  {
   "cell_type": "code",
   "execution_count": 1,
   "metadata": {},
   "outputs": [],
   "source": [
    "#Add needed imports\n",
    "import numpy as np\n",
    "import pandas as pd\n",
    "from imblearn.over_sampling import SMOTE\n",
    "import seaborn as sns\n",
    "from sklearn.preprocessing import OrdinalEncoder\n",
    "from sklearn.dummy import DummyClassifier\n",
    "from imblearn.over_sampling import SMOTENC\n",
    "from sklearn.model_selection import train_test_split\n",
    "from sklearn.preprocessing import StandardScaler\n",
    "from sklearn.metrics import accuracy_score,confusion_matrix, precision_score, recall_score,f1_score\n",
    "from sklearn.tree import DecisionTreeClassifier  \n",
    "from sklearn.linear_model import LogisticRegression\n",
    "from sklearn.ensemble import RandomForestClassifier\n",
    "from sklearn.neural_network import MLPClassifier\n",
    "from xgboost import XGBClassifier\n",
    "from sklearn.neural_network import MLPClassifier\n",
    "from sklearn.ensemble import GradientBoostingClassifier\n",
    "from sklearn.model_selection import RepeatedStratifiedKFold, GridSearchCV\n",
    "from sklearn import svm\n",
    "import shap\n",
    "import os\n",
    "\n",
    "#Read data\n",
    "proccessed_data_path =os.path.join(os.path.pardir,os.path.pardir,'data','processed')\n",
    "train_path = os.path.join(proccessed_data_path,'dataset10.csv')\n",
    "df = pd.read_csv(train_path)\n",
    "labels=df['Churn']\n",
    "x = df.drop(columns=['Churn','Unnamed: 0'],axis = 'columns')\n",
    "y=np.ravel(labels)\n",
    "x_train,x_test,y_train,y_test = train_test_split(x,y,test_size=0.3)\n",
    "oversample = SMOTENC(categorical_features=[2])\n",
    "oversample = SMOTE()\n",
    "x_train, y_train = oversample.fit_resample(x_train, y_train)\n",
    "\n",
    "sc = StandardScaler()\n",
    "x_train = sc.fit_transform(x_train)\n",
    "x_test = sc.transform(x_test)"
   ]
  },
  {
   "cell_type": "code",
   "execution_count": 2,
   "metadata": {},
   "outputs": [],
   "source": [
    "svm_model = svm.SVC(random_state=0,gamma='auto')\n",
    "rf_model=RandomForestClassifier(random_state=0)\n",
    "dt_model=DecisionTreeClassifier(random_state=0,criterion='entropy',max_depth = 7,min_samples_leaf=30) \n",
    "lr_model= LogisticRegression(random_state=0, max_iter=300)\n",
    "mlp_model =MLPClassifier(random_state=0,activation='relu', solver='sgd',learning_rate='adaptive')\n",
    "xgb_model = XGBClassifier(random_state=0 ,learning_rate=0.05, max_depth=7,eval_metric='mlogloss',use_label_encoder =False)\n",
    "gmb_model= GradientBoostingClassifier(random_state=0,n_estimators=20,learning_rate=0.75,max_features=4,max_depth=5)\n",
    "model_params = {\n",
    "    'svm': {\n",
    "        'model': svm_model,\n",
    "        'params' : {\n",
    "            'C': [15,10],\n",
    "            'kernel': ['rbf','linear']\n",
    "        }  \n",
    "     },\n",
    "    'rf': {\n",
    "        'model': rf_model,\n",
    "        'params' : {\n",
    "            'n_estimators': [1,5,10]\n",
    "        }\n",
    "    },\n",
    "     'dt': {\n",
    "        'model': dt_model,\n",
    "        'params' : {}\n",
    "    },\n",
    "    'lr' : {\n",
    "        'model':lr_model,\n",
    "        'params': {\n",
    "            'C': [1,5,10]\n",
    "        }\n",
    "    },\n",
    "    'mlp' : {\n",
    "        'model':mlp_model,\n",
    "        'params': {}\n",
    "    },\n",
    "    'xg_boost' : {\n",
    "        'model':xgb_model,\n",
    "        'params': {}\n",
    "    },\n",
    "    'gbm' : {\n",
    "        'model':gmb_model,\n",
    "        'params': {}\n",
    "    }\n",
    "}"
   ]
  },
  {
   "cell_type": "code",
   "execution_count": 3,
   "metadata": {},
   "outputs": [
    {
     "name": "stderr",
     "output_type": "stream",
     "text": [
      "Stochastic Optimizer: Maximum iterations (200) reached and the optimization hasn't converged yet.\n",
      "Stochastic Optimizer: Maximum iterations (200) reached and the optimization hasn't converged yet.\n",
      "Stochastic Optimizer: Maximum iterations (200) reached and the optimization hasn't converged yet.\n",
      "Stochastic Optimizer: Maximum iterations (200) reached and the optimization hasn't converged yet.\n",
      "Stochastic Optimizer: Maximum iterations (200) reached and the optimization hasn't converged yet.\n",
      "Stochastic Optimizer: Maximum iterations (200) reached and the optimization hasn't converged yet.\n",
      "Stochastic Optimizer: Maximum iterations (200) reached and the optimization hasn't converged yet.\n",
      "Stochastic Optimizer: Maximum iterations (200) reached and the optimization hasn't converged yet.\n",
      "Stochastic Optimizer: Maximum iterations (200) reached and the optimization hasn't converged yet.\n",
      "Stochastic Optimizer: Maximum iterations (200) reached and the optimization hasn't converged yet.\n",
      "Stochastic Optimizer: Maximum iterations (200) reached and the optimization hasn't converged yet.\n",
      "Stochastic Optimizer: Maximum iterations (200) reached and the optimization hasn't converged yet.\n",
      "Stochastic Optimizer: Maximum iterations (200) reached and the optimization hasn't converged yet.\n",
      "Stochastic Optimizer: Maximum iterations (200) reached and the optimization hasn't converged yet.\n",
      "Stochastic Optimizer: Maximum iterations (200) reached and the optimization hasn't converged yet.\n",
      "Stochastic Optimizer: Maximum iterations (200) reached and the optimization hasn't converged yet.\n",
      "Stochastic Optimizer: Maximum iterations (200) reached and the optimization hasn't converged yet.\n",
      "Stochastic Optimizer: Maximum iterations (200) reached and the optimization hasn't converged yet.\n",
      "Stochastic Optimizer: Maximum iterations (200) reached and the optimization hasn't converged yet.\n",
      "Stochastic Optimizer: Maximum iterations (200) reached and the optimization hasn't converged yet.\n",
      "Stochastic Optimizer: Maximum iterations (200) reached and the optimization hasn't converged yet.\n",
      "Stochastic Optimizer: Maximum iterations (200) reached and the optimization hasn't converged yet.\n",
      "Stochastic Optimizer: Maximum iterations (200) reached and the optimization hasn't converged yet.\n",
      "Stochastic Optimizer: Maximum iterations (200) reached and the optimization hasn't converged yet.\n",
      "Stochastic Optimizer: Maximum iterations (200) reached and the optimization hasn't converged yet.\n",
      "Stochastic Optimizer: Maximum iterations (200) reached and the optimization hasn't converged yet.\n",
      "Stochastic Optimizer: Maximum iterations (200) reached and the optimization hasn't converged yet.\n",
      "Stochastic Optimizer: Maximum iterations (200) reached and the optimization hasn't converged yet.\n",
      "Stochastic Optimizer: Maximum iterations (200) reached and the optimization hasn't converged yet.\n",
      "Stochastic Optimizer: Maximum iterations (200) reached and the optimization hasn't converged yet.\n",
      "Stochastic Optimizer: Maximum iterations (200) reached and the optimization hasn't converged yet.\n"
     ]
    },
    {
     "name": "stdout",
     "output_type": "stream",
     "text": [
      "      model  best_score  precision    recall  f1_score  true positives  \\\n",
      "0       svm    0.861752   0.463768  0.761905  0.576577             191   \n",
      "1        rf    0.901325   0.526316  0.714286  0.606061             201   \n",
      "2        dt    0.871969   0.551724  0.761905  0.640000             202   \n",
      "3        lr    0.845159   0.467532  0.857143  0.605042             187   \n",
      "4       mlp    0.847720   0.500000  0.857143  0.631579             192   \n",
      "5  xg_boost    0.914444   0.510204  0.595238  0.549451             204   \n",
      "6       gbm    0.901047   0.555556  0.714286  0.625000             204   \n",
      "\n",
      "   true negatives  false postives  false negatives                 best_params  \n",
      "0              32              37               10  {'C': 10, 'kernel': 'rbf'}  \n",
      "1              30              27               12        {'n_estimators': 10}  \n",
      "2              32              26               10                          {}  \n",
      "3              36              41                6                    {'C': 1}  \n",
      "4              36              36                6                          {}  \n",
      "5              25              24               17                          {}  \n",
      "6              30              24               12                          {}  \n"
     ]
    }
   ],
   "source": [
    "scores = []\n",
    "cv = RepeatedStratifiedKFold(n_splits=10, n_repeats=3, random_state=100)\n",
    "for model_name, mp in model_params.items():\n",
    "    clf =  GridSearchCV(mp['model'], mp['params'], cv=cv, return_train_score=False)\n",
    "    clf.fit(x_train,y_train)\n",
    "    conf_matrix =confusion_matrix(y_test,clf.predict(x_test))\n",
    "    scores.append({\n",
    "        'model': model_name,\n",
    "        'best_score': clf.best_score_,\n",
    "        'best_params': clf.best_params_,\n",
    "        'precision':precision_score(y_test,clf.predict(x_test)),\n",
    "        'recall':recall_score(y_test,clf.predict(x_test)),\n",
    "        'f1_score':f1_score(y_test,clf.predict(x_test)),\n",
    "        'true positives':conf_matrix[0][0],\n",
    "        'true negatives':conf_matrix[1][1],\n",
    "        'false postives':conf_matrix[0][1],\n",
    "        'false negatives':conf_matrix[1][0]\n",
    "    })\n",
    "    \n",
    "df = pd.DataFrame(scores,columns=['model','best_score','precision','recall','f1_score','true positives','true negatives','false postives','false negatives','best_params'])\n",
    "print(df)"
   ]
  },
  {
   "cell_type": "code",
   "execution_count": 4,
   "metadata": {},
   "outputs": [
    {
     "data": {
      "image/png": "[encoded data removed]",
      "text/plain": [
       "<Figure size 576x252 with 2 Axes>"
      ]
     },
     "metadata": {
      "needs_background": "light"
     },
     "output_type": "display_data"
    }
   ],
   "source": [
    "import shap\n",
    "xgb_model = XGBClassifier(random_state=0 ,learning_rate=0.05, max_depth=7,eval_metric='mlogloss',use_label_encoder =False)\n",
    "xgb_model.fit(x_train,y_train)\n",
    "explainer = shap.TreeExplainer(xgb_model)\n",
    "shap_values = explainer.shap_values(x)\n",
    "shap.summary_plot(shap_values, x)"
   ]
  },
  {
   "cell_type": "code",
   "execution_count": null,
   "metadata": {},
   "outputs": [],
   "source": []
  }
 ],
 "metadata": {
  "kernelspec": {
   "display_name": "Python 3",
   "language": "python",
   "name": "python3"
  },
  "language_info": {
   "codemirror_mode": {
    "name": "ipython",
    "version": 3
   },
   "file_extension": ".py",
   "mimetype": "text/x-python",
   "name": "python",
   "nbconvert_exporter": "python",
   "pygments_lexer": "ipython3",
   "version": "3.8.5"
  }
 },
 "nbformat": 4,
 "nbformat_minor": 4
}
